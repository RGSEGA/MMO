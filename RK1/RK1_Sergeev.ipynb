{
  "cells": [
    {
      "cell_type": "markdown",
      "metadata": {
        "colab_type": "text",
        "id": "view-in-github"
      },
      "source": [
        "<a href=\"https://colab.research.google.com/github/PinskayaNika/MMO_Pinskaya/blob/main/RK1_Pinskaya.ipynb\" target=\"_parent\"><img src=\"https://colab.research.google.com/assets/colab-badge.svg\" alt=\"Open In Colab\"/></a>"
      ]
    },
    {
      "cell_type": "markdown",
      "metadata": {
        "id": "IpxqiClgXZkr"
      },
      "source": [
        "# **Рубежный контроль №1**\n",
        "**Студент:** Сергеев М.К.  \n",
        "**Группа:** ИУ5-22М   \n",
        "**Вариант:** 9  \n",
        "**Задачи:** 9, 29  \n",
        "**Доп. требование:** график \"Диаграмма рассяния\""
      ]
    },
    {
      "cell_type": "markdown",
      "metadata": {
        "id": "SA0i5o8MZxOG"
      },
      "source": [
        "## Импорт библиотек"
      ]
    },
    {
      "cell_type": "code",
      "execution_count": 101,
      "metadata": {
        "id": "tLRlEGE1XRq7"
      },
      "outputs": [],
      "source": [
        "import numpy as np\n",
        "import pandas as pd\n",
        "import matplotlib.pyplot as plt\n",
        "import seaborn as sns\n",
        "%matplotlib inline"
      ]
    },
    {
      "cell_type": "markdown",
      "metadata": {
        "id": "X3Z82cxYXWMV"
      },
      "source": [
        "## Загрузка и просмотр датасета\n",
        "\n",
        "Датасет содержит данные о географии ковида. Для анализа географии используются 6 числовых показателей: общий процент риска, высокий риск на койку отделения интенсивной терапии, высокий риск для больницы, койки отделения интенсивной терапии, больницы, общий риск."
      ]
    },
    {
      "cell_type": "code",
      "execution_count": 83,
      "metadata": {
        "id": "v6RoCNpLdHDC"
      },
      "outputs": [],
      "source": [
        "df = pd.read_csv('/content/drive/MyDrive/MMO/mmsa-icu-beds2.csv')"
      ]
    },
    {
      "cell_type": "code",
      "execution_count": 84,
      "metadata": {
        "colab": {
          "base_uri": "https://localhost:8080/"
        },
        "id": "Ye-urnyrFRRV",
        "outputId": "e5dccc86-0b2c-4794-f562-c57b11a4969c"
      },
      "outputs": [
        {
          "data": {
            "text/plain": [
              "(136, 8)"
            ]
          },
          "execution_count": 84,
          "metadata": {},
          "output_type": "execute_result"
        }
      ],
      "source": [
        "df.shape"
      ]
    },
    {
      "cell_type": "code",
      "execution_count": 85,
      "metadata": {
        "colab": {
          "base_uri": "https://localhost:8080/",
          "height": 589
        },
        "id": "xxN4VI4pH5d3",
        "outputId": "440386ce-6362-4f4b-f1ca-781ecc12946b"
      },
      "outputs": [
        {
          "data": {
            "text/html": [
              "\n",
              "  <div id=\"df-e2cd0aee-161e-427d-9d71-3723a7c9cb57\">\n",
              "    <div class=\"colab-df-container\">\n",
              "      <div>\n",
              "<style scoped>\n",
              "    .dataframe tbody tr th:only-of-type {\n",
              "        vertical-align: middle;\n",
              "    }\n",
              "\n",
              "    .dataframe tbody tr th {\n",
              "        vertical-align: top;\n",
              "    }\n",
              "\n",
              "    .dataframe thead th {\n",
              "        text-align: right;\n",
              "    }\n",
              "</style>\n",
              "<table border=\"1\" class=\"dataframe\">\n",
              "  <thead>\n",
              "    <tr style=\"text-align: right;\">\n",
              "      <th></th>\n",
              "      <th>MMSA</th>\n",
              "      <th>code</th>\n",
              "      <th>total_percent_at_risk</th>\n",
              "      <th>high_risk_per_ICU_bed</th>\n",
              "      <th>high_risk_per_hospital</th>\n",
              "      <th>icu_beds</th>\n",
              "      <th>hospitals</th>\n",
              "      <th>total_at_risk</th>\n",
              "    </tr>\n",
              "  </thead>\n",
              "  <tbody>\n",
              "    <tr>\n",
              "      <th>0</th>\n",
              "      <td>San Juan-Carolina-Caguas</td>\n",
              "      <td>PR</td>\n",
              "      <td>52.88%</td>\n",
              "      <td>NaN</td>\n",
              "      <td>NaN</td>\n",
              "      <td>NaN</td>\n",
              "      <td>NaN</td>\n",
              "      <td>923725.203</td>\n",
              "    </tr>\n",
              "    <tr>\n",
              "      <th>1</th>\n",
              "      <td>Manhattan</td>\n",
              "      <td>KS</td>\n",
              "      <td>47.29%</td>\n",
              "      <td>4489.848750</td>\n",
              "      <td>8979.69750</td>\n",
              "      <td>8.0</td>\n",
              "      <td>4.0</td>\n",
              "      <td>35918.790</td>\n",
              "    </tr>\n",
              "    <tr>\n",
              "      <th>2</th>\n",
              "      <td>Hilton Head Island-Bluffton-Beaufort</td>\n",
              "      <td>SC</td>\n",
              "      <td>62.72%</td>\n",
              "      <td>3904.163571</td>\n",
              "      <td>36438.86000</td>\n",
              "      <td>28.0</td>\n",
              "      <td>3.0</td>\n",
              "      <td>109316.580</td>\n",
              "    </tr>\n",
              "    <tr>\n",
              "      <th>3</th>\n",
              "      <td>Kahului-Wailuku-Lahaina</td>\n",
              "      <td>HI</td>\n",
              "      <td>59.13%</td>\n",
              "      <td>3860.557000</td>\n",
              "      <td>19302.78500</td>\n",
              "      <td>20.0</td>\n",
              "      <td>4.0</td>\n",
              "      <td>77211.140</td>\n",
              "    </tr>\n",
              "    <tr>\n",
              "      <th>4</th>\n",
              "      <td>Spartanburg</td>\n",
              "      <td>SC</td>\n",
              "      <td>66.12%</td>\n",
              "      <td>3786.115556</td>\n",
              "      <td>85187.60000</td>\n",
              "      <td>45.0</td>\n",
              "      <td>2.0</td>\n",
              "      <td>170375.200</td>\n",
              "    </tr>\n",
              "    <tr>\n",
              "      <th>...</th>\n",
              "      <td>...</td>\n",
              "      <td>...</td>\n",
              "      <td>...</td>\n",
              "      <td>...</td>\n",
              "      <td>...</td>\n",
              "      <td>...</td>\n",
              "      <td>...</td>\n",
              "      <td>...</td>\n",
              "    </tr>\n",
              "    <tr>\n",
              "      <th>131</th>\n",
              "      <td>Charleston</td>\n",
              "      <td>WV</td>\n",
              "      <td>75.97%</td>\n",
              "      <td>831.689744</td>\n",
              "      <td>25948.72000</td>\n",
              "      <td>156.0</td>\n",
              "      <td>5.0</td>\n",
              "      <td>129743.600</td>\n",
              "    </tr>\n",
              "    <tr>\n",
              "      <th>132</th>\n",
              "      <td>Duluth</td>\n",
              "      <td>MN-WI</td>\n",
              "      <td>60.34%</td>\n",
              "      <td>730.523135</td>\n",
              "      <td>12286.07091</td>\n",
              "      <td>185.0</td>\n",
              "      <td>11.0</td>\n",
              "      <td>135146.780</td>\n",
              "    </tr>\n",
              "    <tr>\n",
              "      <th>133</th>\n",
              "      <td>Reno</td>\n",
              "      <td>NV</td>\n",
              "      <td>57.86%</td>\n",
              "      <td>638.824743</td>\n",
              "      <td>42290.19800</td>\n",
              "      <td>331.0</td>\n",
              "      <td>5.0</td>\n",
              "      <td>211450.990</td>\n",
              "    </tr>\n",
              "    <tr>\n",
              "      <th>134</th>\n",
              "      <td>Gainesville</td>\n",
              "      <td>FL</td>\n",
              "      <td>56.38%</td>\n",
              "      <td>621.449952</td>\n",
              "      <td>65252.24500</td>\n",
              "      <td>210.0</td>\n",
              "      <td>2.0</td>\n",
              "      <td>130504.490</td>\n",
              "    </tr>\n",
              "    <tr>\n",
              "      <th>135</th>\n",
              "      <td>Rochester</td>\n",
              "      <td>MN</td>\n",
              "      <td>54.72%</td>\n",
              "      <td>413.667706</td>\n",
              "      <td>22544.89000</td>\n",
              "      <td>218.0</td>\n",
              "      <td>4.0</td>\n",
              "      <td>90179.560</td>\n",
              "    </tr>\n",
              "  </tbody>\n",
              "</table>\n",
              "<p>136 rows × 8 columns</p>\n",
              "</div>\n",
              "      <button class=\"colab-df-convert\" onclick=\"convertToInteractive('df-e2cd0aee-161e-427d-9d71-3723a7c9cb57')\"\n",
              "              title=\"Convert this dataframe to an interactive table.\"\n",
              "              style=\"display:none;\">\n",
              "        \n",
              "  <svg xmlns=\"http://www.w3.org/2000/svg\" height=\"24px\"viewBox=\"0 0 24 24\"\n",
              "       width=\"24px\">\n",
              "    <path d=\"M0 0h24v24H0V0z\" fill=\"none\"/>\n",
              "    <path d=\"M18.56 5.44l.94 2.06.94-2.06 2.06-.94-2.06-.94-.94-2.06-.94 2.06-2.06.94zm-11 1L8.5 8.5l.94-2.06 2.06-.94-2.06-.94L8.5 2.5l-.94 2.06-2.06.94zm10 10l.94 2.06.94-2.06 2.06-.94-2.06-.94-.94-2.06-.94 2.06-2.06.94z\"/><path d=\"M17.41 7.96l-1.37-1.37c-.4-.4-.92-.59-1.43-.59-.52 0-1.04.2-1.43.59L10.3 9.45l-7.72 7.72c-.78.78-.78 2.05 0 2.83L4 21.41c.39.39.9.59 1.41.59.51 0 1.02-.2 1.41-.59l7.78-7.78 2.81-2.81c.8-.78.8-2.07 0-2.86zM5.41 20L4 18.59l7.72-7.72 1.47 1.35L5.41 20z\"/>\n",
              "  </svg>\n",
              "      </button>\n",
              "      \n",
              "  <style>\n",
              "    .colab-df-container {\n",
              "      display:flex;\n",
              "      flex-wrap:wrap;\n",
              "      gap: 12px;\n",
              "    }\n",
              "\n",
              "    .colab-df-convert {\n",
              "      background-color: #E8F0FE;\n",
              "      border: none;\n",
              "      border-radius: 50%;\n",
              "      cursor: pointer;\n",
              "      display: none;\n",
              "      fill: #1967D2;\n",
              "      height: 32px;\n",
              "      padding: 0 0 0 0;\n",
              "      width: 32px;\n",
              "    }\n",
              "\n",
              "    .colab-df-convert:hover {\n",
              "      background-color: #E2EBFA;\n",
              "      box-shadow: 0px 1px 2px rgba(60, 64, 67, 0.3), 0px 1px 3px 1px rgba(60, 64, 67, 0.15);\n",
              "      fill: #174EA6;\n",
              "    }\n",
              "\n",
              "    [theme=dark] .colab-df-convert {\n",
              "      background-color: #3B4455;\n",
              "      fill: #D2E3FC;\n",
              "    }\n",
              "\n",
              "    [theme=dark] .colab-df-convert:hover {\n",
              "      background-color: #434B5C;\n",
              "      box-shadow: 0px 1px 3px 1px rgba(0, 0, 0, 0.15);\n",
              "      filter: drop-shadow(0px 1px 2px rgba(0, 0, 0, 0.3));\n",
              "      fill: #FFFFFF;\n",
              "    }\n",
              "  </style>\n",
              "\n",
              "      <script>\n",
              "        const buttonEl =\n",
              "          document.querySelector('#df-e2cd0aee-161e-427d-9d71-3723a7c9cb57 button.colab-df-convert');\n",
              "        buttonEl.style.display =\n",
              "          google.colab.kernel.accessAllowed ? 'block' : 'none';\n",
              "\n",
              "        async function convertToInteractive(key) {\n",
              "          const element = document.querySelector('#df-e2cd0aee-161e-427d-9d71-3723a7c9cb57');\n",
              "          const dataTable =\n",
              "            await google.colab.kernel.invokeFunction('convertToInteractive',\n",
              "                                                     [key], {});\n",
              "          if (!dataTable) return;\n",
              "\n",
              "          const docLinkHtml = 'Like what you see? Visit the ' +\n",
              "            '<a target=\"_blank\" href=https://colab.research.google.com/notebooks/data_table.ipynb>data table notebook</a>'\n",
              "            + ' to learn more about interactive tables.';\n",
              "          element.innerHTML = '';\n",
              "          dataTable['output_type'] = 'display_data';\n",
              "          await google.colab.output.renderOutput(dataTable, element);\n",
              "          const docLink = document.createElement('div');\n",
              "          docLink.innerHTML = docLinkHtml;\n",
              "          element.appendChild(docLink);\n",
              "        }\n",
              "      </script>\n",
              "    </div>\n",
              "  </div>\n",
              "  "
            ],
            "text/plain": [
              "                                     MMSA    code total_percent_at_risk  \\\n",
              "0                San Juan-Carolina-Caguas      PR                52.88%   \n",
              "1                               Manhattan      KS                47.29%   \n",
              "2    Hilton Head Island-Bluffton-Beaufort      SC                62.72%   \n",
              "3                 Kahului-Wailuku-Lahaina      HI                59.13%   \n",
              "4                             Spartanburg      SC                66.12%   \n",
              "..                                    ...     ...                   ...   \n",
              "131                            Charleston      WV                75.97%   \n",
              "132                                Duluth   MN-WI                60.34%   \n",
              "133                                  Reno      NV                57.86%   \n",
              "134                           Gainesville      FL                56.38%   \n",
              "135                             Rochester      MN                54.72%   \n",
              "\n",
              "     high_risk_per_ICU_bed  high_risk_per_hospital  icu_beds  hospitals  \\\n",
              "0                      NaN                     NaN       NaN        NaN   \n",
              "1              4489.848750              8979.69750       8.0        4.0   \n",
              "2              3904.163571             36438.86000      28.0        3.0   \n",
              "3              3860.557000             19302.78500      20.0        4.0   \n",
              "4              3786.115556             85187.60000      45.0        2.0   \n",
              "..                     ...                     ...       ...        ...   \n",
              "131             831.689744             25948.72000     156.0        5.0   \n",
              "132             730.523135             12286.07091     185.0       11.0   \n",
              "133             638.824743             42290.19800     331.0        5.0   \n",
              "134             621.449952             65252.24500     210.0        2.0   \n",
              "135             413.667706             22544.89000     218.0        4.0   \n",
              "\n",
              "     total_at_risk  \n",
              "0       923725.203  \n",
              "1        35918.790  \n",
              "2       109316.580  \n",
              "3        77211.140  \n",
              "4       170375.200  \n",
              "..             ...  \n",
              "131     129743.600  \n",
              "132     135146.780  \n",
              "133     211450.990  \n",
              "134     130504.490  \n",
              "135      90179.560  \n",
              "\n",
              "[136 rows x 8 columns]"
            ]
          },
          "execution_count": 85,
          "metadata": {},
          "output_type": "execute_result"
        }
      ],
      "source": [
        "df"
      ]
    },
    {
      "cell_type": "code",
      "execution_count": 86,
      "metadata": {
        "colab": {
          "base_uri": "https://localhost:8080/",
          "height": 319
        },
        "id": "2C65qh8uJWxr",
        "outputId": "91ca4737-1c97-4e4f-9b73-29e2978687db"
      },
      "outputs": [
        {
          "data": {
            "text/html": [
              "\n",
              "  <div id=\"df-53baa33f-cce4-41e9-9fa4-856a54775860\">\n",
              "    <div class=\"colab-df-container\">\n",
              "      <div>\n",
              "<style scoped>\n",
              "    .dataframe tbody tr th:only-of-type {\n",
              "        vertical-align: middle;\n",
              "    }\n",
              "\n",
              "    .dataframe tbody tr th {\n",
              "        vertical-align: top;\n",
              "    }\n",
              "\n",
              "    .dataframe thead th {\n",
              "        text-align: right;\n",
              "    }\n",
              "</style>\n",
              "<table border=\"1\" class=\"dataframe\">\n",
              "  <thead>\n",
              "    <tr style=\"text-align: right;\">\n",
              "      <th></th>\n",
              "      <th>MMSA</th>\n",
              "      <th>code</th>\n",
              "      <th>total_percent_at_risk</th>\n",
              "      <th>high_risk_per_ICU_bed</th>\n",
              "      <th>high_risk_per_hospital</th>\n",
              "      <th>icu_beds</th>\n",
              "      <th>hospitals</th>\n",
              "      <th>total_at_risk</th>\n",
              "    </tr>\n",
              "  </thead>\n",
              "  <tbody>\n",
              "    <tr>\n",
              "      <th>0</th>\n",
              "      <td>San Juan-Carolina-Caguas</td>\n",
              "      <td>PR</td>\n",
              "      <td>52.88%</td>\n",
              "      <td>NaN</td>\n",
              "      <td>NaN</td>\n",
              "      <td>NaN</td>\n",
              "      <td>NaN</td>\n",
              "      <td>923725.203</td>\n",
              "    </tr>\n",
              "    <tr>\n",
              "      <th>1</th>\n",
              "      <td>Manhattan</td>\n",
              "      <td>KS</td>\n",
              "      <td>47.29%</td>\n",
              "      <td>4489.848750</td>\n",
              "      <td>8979.6975</td>\n",
              "      <td>8.0</td>\n",
              "      <td>4.0</td>\n",
              "      <td>35918.790</td>\n",
              "    </tr>\n",
              "    <tr>\n",
              "      <th>2</th>\n",
              "      <td>Hilton Head Island-Bluffton-Beaufort</td>\n",
              "      <td>SC</td>\n",
              "      <td>62.72%</td>\n",
              "      <td>3904.163571</td>\n",
              "      <td>36438.8600</td>\n",
              "      <td>28.0</td>\n",
              "      <td>3.0</td>\n",
              "      <td>109316.580</td>\n",
              "    </tr>\n",
              "    <tr>\n",
              "      <th>3</th>\n",
              "      <td>Kahului-Wailuku-Lahaina</td>\n",
              "      <td>HI</td>\n",
              "      <td>59.13%</td>\n",
              "      <td>3860.557000</td>\n",
              "      <td>19302.7850</td>\n",
              "      <td>20.0</td>\n",
              "      <td>4.0</td>\n",
              "      <td>77211.140</td>\n",
              "    </tr>\n",
              "    <tr>\n",
              "      <th>4</th>\n",
              "      <td>Spartanburg</td>\n",
              "      <td>SC</td>\n",
              "      <td>66.12%</td>\n",
              "      <td>3786.115556</td>\n",
              "      <td>85187.6000</td>\n",
              "      <td>45.0</td>\n",
              "      <td>2.0</td>\n",
              "      <td>170375.200</td>\n",
              "    </tr>\n",
              "  </tbody>\n",
              "</table>\n",
              "</div>\n",
              "      <button class=\"colab-df-convert\" onclick=\"convertToInteractive('df-53baa33f-cce4-41e9-9fa4-856a54775860')\"\n",
              "              title=\"Convert this dataframe to an interactive table.\"\n",
              "              style=\"display:none;\">\n",
              "        \n",
              "  <svg xmlns=\"http://www.w3.org/2000/svg\" height=\"24px\"viewBox=\"0 0 24 24\"\n",
              "       width=\"24px\">\n",
              "    <path d=\"M0 0h24v24H0V0z\" fill=\"none\"/>\n",
              "    <path d=\"M18.56 5.44l.94 2.06.94-2.06 2.06-.94-2.06-.94-.94-2.06-.94 2.06-2.06.94zm-11 1L8.5 8.5l.94-2.06 2.06-.94-2.06-.94L8.5 2.5l-.94 2.06-2.06.94zm10 10l.94 2.06.94-2.06 2.06-.94-2.06-.94-.94-2.06-.94 2.06-2.06.94z\"/><path d=\"M17.41 7.96l-1.37-1.37c-.4-.4-.92-.59-1.43-.59-.52 0-1.04.2-1.43.59L10.3 9.45l-7.72 7.72c-.78.78-.78 2.05 0 2.83L4 21.41c.39.39.9.59 1.41.59.51 0 1.02-.2 1.41-.59l7.78-7.78 2.81-2.81c.8-.78.8-2.07 0-2.86zM5.41 20L4 18.59l7.72-7.72 1.47 1.35L5.41 20z\"/>\n",
              "  </svg>\n",
              "      </button>\n",
              "      \n",
              "  <style>\n",
              "    .colab-df-container {\n",
              "      display:flex;\n",
              "      flex-wrap:wrap;\n",
              "      gap: 12px;\n",
              "    }\n",
              "\n",
              "    .colab-df-convert {\n",
              "      background-color: #E8F0FE;\n",
              "      border: none;\n",
              "      border-radius: 50%;\n",
              "      cursor: pointer;\n",
              "      display: none;\n",
              "      fill: #1967D2;\n",
              "      height: 32px;\n",
              "      padding: 0 0 0 0;\n",
              "      width: 32px;\n",
              "    }\n",
              "\n",
              "    .colab-df-convert:hover {\n",
              "      background-color: #E2EBFA;\n",
              "      box-shadow: 0px 1px 2px rgba(60, 64, 67, 0.3), 0px 1px 3px 1px rgba(60, 64, 67, 0.15);\n",
              "      fill: #174EA6;\n",
              "    }\n",
              "\n",
              "    [theme=dark] .colab-df-convert {\n",
              "      background-color: #3B4455;\n",
              "      fill: #D2E3FC;\n",
              "    }\n",
              "\n",
              "    [theme=dark] .colab-df-convert:hover {\n",
              "      background-color: #434B5C;\n",
              "      box-shadow: 0px 1px 3px 1px rgba(0, 0, 0, 0.15);\n",
              "      filter: drop-shadow(0px 1px 2px rgba(0, 0, 0, 0.3));\n",
              "      fill: #FFFFFF;\n",
              "    }\n",
              "  </style>\n",
              "\n",
              "      <script>\n",
              "        const buttonEl =\n",
              "          document.querySelector('#df-53baa33f-cce4-41e9-9fa4-856a54775860 button.colab-df-convert');\n",
              "        buttonEl.style.display =\n",
              "          google.colab.kernel.accessAllowed ? 'block' : 'none';\n",
              "\n",
              "        async function convertToInteractive(key) {\n",
              "          const element = document.querySelector('#df-53baa33f-cce4-41e9-9fa4-856a54775860');\n",
              "          const dataTable =\n",
              "            await google.colab.kernel.invokeFunction('convertToInteractive',\n",
              "                                                     [key], {});\n",
              "          if (!dataTable) return;\n",
              "\n",
              "          const docLinkHtml = 'Like what you see? Visit the ' +\n",
              "            '<a target=\"_blank\" href=https://colab.research.google.com/notebooks/data_table.ipynb>data table notebook</a>'\n",
              "            + ' to learn more about interactive tables.';\n",
              "          element.innerHTML = '';\n",
              "          dataTable['output_type'] = 'display_data';\n",
              "          await google.colab.output.renderOutput(dataTable, element);\n",
              "          const docLink = document.createElement('div');\n",
              "          docLink.innerHTML = docLinkHtml;\n",
              "          element.appendChild(docLink);\n",
              "        }\n",
              "      </script>\n",
              "    </div>\n",
              "  </div>\n",
              "  "
            ],
            "text/plain": [
              "                                   MMSA code total_percent_at_risk  \\\n",
              "0              San Juan-Carolina-Caguas   PR                52.88%   \n",
              "1                             Manhattan   KS                47.29%   \n",
              "2  Hilton Head Island-Bluffton-Beaufort   SC                62.72%   \n",
              "3               Kahului-Wailuku-Lahaina   HI                59.13%   \n",
              "4                           Spartanburg   SC                66.12%   \n",
              "\n",
              "   high_risk_per_ICU_bed  high_risk_per_hospital  icu_beds  hospitals  \\\n",
              "0                    NaN                     NaN       NaN        NaN   \n",
              "1            4489.848750               8979.6975       8.0        4.0   \n",
              "2            3904.163571              36438.8600      28.0        3.0   \n",
              "3            3860.557000              19302.7850      20.0        4.0   \n",
              "4            3786.115556              85187.6000      45.0        2.0   \n",
              "\n",
              "   total_at_risk  \n",
              "0     923725.203  \n",
              "1      35918.790  \n",
              "2     109316.580  \n",
              "3      77211.140  \n",
              "4     170375.200  "
            ]
          },
          "execution_count": 86,
          "metadata": {},
          "output_type": "execute_result"
        }
      ],
      "source": [
        "df.head()"
      ]
    },
    {
      "cell_type": "code",
      "execution_count": 87,
      "metadata": {
        "colab": {
          "base_uri": "https://localhost:8080/"
        },
        "id": "Z8tzWJrjJt76",
        "outputId": "f6fae459-b5e3-4c0a-c49d-348041098e0f"
      },
      "outputs": [
        {
          "name": "stdout",
          "output_type": "stream",
          "text": [
            "<class 'pandas.core.frame.DataFrame'>\n",
            "RangeIndex: 136 entries, 0 to 135\n",
            "Data columns (total 8 columns):\n",
            " #   Column                  Non-Null Count  Dtype  \n",
            "---  ------                  --------------  -----  \n",
            " 0   MMSA                    136 non-null    object \n",
            " 1   code                    119 non-null    object \n",
            " 2   total_percent_at_risk   119 non-null    object \n",
            " 3   high_risk_per_ICU_bed   118 non-null    float64\n",
            " 4   high_risk_per_hospital  118 non-null    float64\n",
            " 5   icu_beds                118 non-null    float64\n",
            " 6   hospitals               118 non-null    float64\n",
            " 7   total_at_risk           119 non-null    float64\n",
            "dtypes: float64(5), object(3)\n",
            "memory usage: 8.6+ KB\n"
          ]
        }
      ],
      "source": [
        "df.info()"
      ]
    },
    {
      "cell_type": "markdown",
      "metadata": {
        "id": "XTnyDqIqXZ_5"
      },
      "source": [
        "## 1. Задача 9\n",
        "Для набора данных провести устранение пропусков для одного (произвольного) числового признака с использованием метода заполнения \"хвостом распределения\"."
      ]
    },
    {
      "cell_type": "code",
      "execution_count": 88,
      "metadata": {
        "colab": {
          "base_uri": "https://localhost:8080/"
        },
        "id": "UmuHxCCXHvHV",
        "outputId": "ed61eb18-65c9-4759-aa2a-9b14c7bb3838"
      },
      "outputs": [
        {
          "data": {
            "text/plain": [
              "[('MMSA', 0),\n",
              " ('code', 17),\n",
              " ('total_percent_at_risk', 17),\n",
              " ('high_risk_per_ICU_bed', 18),\n",
              " ('high_risk_per_hospital', 18),\n",
              " ('icu_beds', 18),\n",
              " ('hospitals', 18),\n",
              " ('total_at_risk', 17)]"
            ]
          },
          "execution_count": 88,
          "metadata": {},
          "output_type": "execute_result"
        }
      ],
      "source": [
        "# Количество пропусков\n",
        "[(i, df[i].isnull().sum()) for i in df.columns]"
      ]
    },
    {
      "cell_type": "code",
      "execution_count": 90,
      "metadata": {
        "colab": {
          "base_uri": "https://localhost:8080/"
        },
        "id": "04hJoboWdIMV",
        "outputId": "5ea17736-40f7-4df4-c431-7483bb4e902a"
      },
      "outputs": [
        {
          "data": {
            "text/plain": [
              "2871737.49159299"
            ]
          },
          "execution_count": 90,
          "metadata": {},
          "output_type": "execute_result"
        }
      ],
      "source": [
        "# Похоже на нормальное\n",
        "total_at_risk_ev = df['total_at_risk'].mean() + 3*df['total_at_risk'].std()\n",
        "total_at_risk_ev"
      ]
    },
    {
      "cell_type": "code",
      "execution_count": 95,
      "metadata": {
        "colab": {
          "base_uri": "https://localhost:8080/"
        },
        "id": "9J7ecrXuJ-Cx",
        "outputId": "aa72f2c7-6dfb-4d1d-c6dd-81c1723a687f"
      },
      "outputs": [
        {
          "name": "stdout",
          "output_type": "stream",
          "text": [
            "IQR=314.0, extreme_value=1342.0\n"
          ]
        },
        {
          "data": {
            "text/plain": [
              "1342.0"
            ]
          },
          "execution_count": 95,
          "metadata": {},
          "output_type": "execute_result"
        }
      ],
      "source": [
        "# Ассиметричное\n",
        "IQR = df['icu_beds'].quantile(0.75) - df['icu_beds'].quantile(0.25)\n",
        "icu_beds_ev1 = df['icu_beds'].quantile(0.75) + 3*IQR\n",
        "print('IQR={}, extreme_value={}'.format(IQR, icu_beds_ev1))\n",
        "\n",
        "icu_beds_ev1"
      ]
    },
    {
      "cell_type": "code",
      "execution_count": 96,
      "metadata": {
        "colab": {
          "base_uri": "https://localhost:8080/"
        },
        "id": "u94MDN49KEMg",
        "outputId": "507582aa-5645-41de-939b-094695ce2d7c"
      },
      "outputs": [
        {
          "name": "stdout",
          "output_type": "stream",
          "text": [
            "IQR=314.0, extreme_value=871.0\n"
          ]
        }
      ],
      "source": [
        "icu_beds_ev2 = df['icu_beds'].quantile(0.75) + 1.5*IQR\n",
        "print('IQR={}, extreme_value={}'.format(IQR, icu_beds_ev2))"
      ]
    },
    {
      "cell_type": "code",
      "execution_count": 97,
      "metadata": {
        "id": "8rZzK0_HKLPk"
      },
      "outputs": [],
      "source": [
        "IQR_lf = df['icu_beds'].quantile(0.75) - df['icu_beds'].quantile(0.25)\n",
        "icu_beds_ev1 = df['icu_beds'].quantile(0.75) + 1.5*IQR_lf\n",
        "icu_beds_ev2 = df['icu_beds'].quantile(0.75) + 3*IQR_lf"
      ]
    },
    {
      "cell_type": "code",
      "execution_count": 98,
      "metadata": {
        "id": "YTxHpaNZKMFh"
      },
      "outputs": [],
      "source": [
        "df['icu_beds'].fillna(icu_beds_ev1, inplace=True)"
      ]
    },
    {
      "cell_type": "code",
      "execution_count": 99,
      "metadata": {
        "id": "2BjKAiA2Lg2y"
      },
      "outputs": [],
      "source": [
        "df['total_at_risk'].fillna(total_at_risk_ev, inplace=True)"
      ]
    },
    {
      "cell_type": "code",
      "execution_count": 100,
      "metadata": {
        "colab": {
          "base_uri": "https://localhost:8080/"
        },
        "id": "XeFYfsoCU6KT",
        "outputId": "46da358f-3795-4756-8b04-696cab4f8bf9"
      },
      "outputs": [
        {
          "name": "stdout",
          "output_type": "stream",
          "text": [
            "<class 'pandas.core.frame.DataFrame'>\n",
            "RangeIndex: 136 entries, 0 to 135\n",
            "Data columns (total 8 columns):\n",
            " #   Column                  Non-Null Count  Dtype  \n",
            "---  ------                  --------------  -----  \n",
            " 0   MMSA                    136 non-null    object \n",
            " 1   code                    119 non-null    object \n",
            " 2   total_percent_at_risk   119 non-null    object \n",
            " 3   high_risk_per_ICU_bed   118 non-null    float64\n",
            " 4   high_risk_per_hospital  118 non-null    float64\n",
            " 5   icu_beds                136 non-null    float64\n",
            " 6   hospitals               118 non-null    float64\n",
            " 7   total_at_risk           136 non-null    float64\n",
            "dtypes: float64(5), object(3)\n",
            "memory usage: 8.6+ KB\n"
          ]
        }
      ],
      "source": [
        "df.info()"
      ]
    },
    {
      "cell_type": "markdown",
      "metadata": {
        "id": "hz-S6wn7WpGq"
      },
      "source": [
        "Из результатов видно, что пропуски в колонках icu_beds и total_at_risk были устранены."
      ]
    },
    {
      "cell_type": "markdown",
      "metadata": {
        "id": "zRKGDKcYcy-C"
      },
      "source": [
        "## 2. Задача 29\n",
        "Для набора данных провести удаление константных и псевдоконстантных признаков."
      ]
    },
    {
      "cell_type": "code",
      "execution_count": 154,
      "metadata": {
        "id": "bwtqotKPdI96"
      },
      "outputs": [],
      "source": [
        "df2 = pd.read_csv('/content/drive/MyDrive/MMO/mmsa-icu-beds3.csv')"
      ]
    },
    {
      "cell_type": "code",
      "execution_count": 155,
      "metadata": {
        "colab": {
          "base_uri": "https://localhost:8080/"
        },
        "id": "VdkrD9gjMual",
        "outputId": "94fa1970-7196-421c-904c-8545ba4e5dad"
      },
      "outputs": [
        {
          "name": "stdout",
          "output_type": "stream",
          "text": [
            "<class 'pandas.core.frame.DataFrame'>\n",
            "RangeIndex: 136 entries, 0 to 135\n",
            "Data columns (total 10 columns):\n",
            " #   Column                  Non-Null Count  Dtype  \n",
            "---  ------                  --------------  -----  \n",
            " 0   MMSA                    136 non-null    object \n",
            " 1   code                    119 non-null    object \n",
            " 2   total_percent_at_risk   119 non-null    object \n",
            " 3   high_risk_per_ICU_bed   115 non-null    float64\n",
            " 4   high_risk_per_hospital  115 non-null    float64\n",
            " 5   icu_beds                116 non-null    float64\n",
            " 6   hospitals               118 non-null    float64\n",
            " 7   total_at_risk           119 non-null    float64\n",
            " 8   miss_feature            5 non-null      float64\n",
            " 9   const_feature           113 non-null    float64\n",
            "dtypes: float64(7), object(3)\n",
            "memory usage: 10.8+ KB\n"
          ]
        }
      ],
      "source": [
        "df2.info()"
      ]
    },
    {
      "cell_type": "code",
      "execution_count": 156,
      "metadata": {
        "colab": {
          "base_uri": "https://localhost:8080/",
          "height": 363
        },
        "id": "RjS3YZDTMv5g",
        "outputId": "393cd44e-b0f4-4ddd-a816-16d3b5c9af3a"
      },
      "outputs": [
        {
          "data": {
            "text/html": [
              "\n",
              "  <div id=\"df-d5c37060-cac0-4c1a-9d49-780a537dd5c4\">\n",
              "    <div class=\"colab-df-container\">\n",
              "      <div>\n",
              "<style scoped>\n",
              "    .dataframe tbody tr th:only-of-type {\n",
              "        vertical-align: middle;\n",
              "    }\n",
              "\n",
              "    .dataframe tbody tr th {\n",
              "        vertical-align: top;\n",
              "    }\n",
              "\n",
              "    .dataframe thead th {\n",
              "        text-align: right;\n",
              "    }\n",
              "</style>\n",
              "<table border=\"1\" class=\"dataframe\">\n",
              "  <thead>\n",
              "    <tr style=\"text-align: right;\">\n",
              "      <th></th>\n",
              "      <th>Feature</th>\n",
              "      <th>NaNRate</th>\n",
              "    </tr>\n",
              "  </thead>\n",
              "  <tbody>\n",
              "    <tr>\n",
              "      <th>8</th>\n",
              "      <td>miss_feature</td>\n",
              "      <td>0.963235</td>\n",
              "    </tr>\n",
              "    <tr>\n",
              "      <th>9</th>\n",
              "      <td>const_feature</td>\n",
              "      <td>0.169118</td>\n",
              "    </tr>\n",
              "    <tr>\n",
              "      <th>3</th>\n",
              "      <td>high_risk_per_ICU_bed</td>\n",
              "      <td>0.154412</td>\n",
              "    </tr>\n",
              "    <tr>\n",
              "      <th>4</th>\n",
              "      <td>high_risk_per_hospital</td>\n",
              "      <td>0.154412</td>\n",
              "    </tr>\n",
              "    <tr>\n",
              "      <th>5</th>\n",
              "      <td>icu_beds</td>\n",
              "      <td>0.147059</td>\n",
              "    </tr>\n",
              "    <tr>\n",
              "      <th>6</th>\n",
              "      <td>hospitals</td>\n",
              "      <td>0.132353</td>\n",
              "    </tr>\n",
              "    <tr>\n",
              "      <th>1</th>\n",
              "      <td>code</td>\n",
              "      <td>0.125000</td>\n",
              "    </tr>\n",
              "    <tr>\n",
              "      <th>2</th>\n",
              "      <td>total_percent_at_risk</td>\n",
              "      <td>0.125000</td>\n",
              "    </tr>\n",
              "    <tr>\n",
              "      <th>7</th>\n",
              "      <td>total_at_risk</td>\n",
              "      <td>0.125000</td>\n",
              "    </tr>\n",
              "    <tr>\n",
              "      <th>0</th>\n",
              "      <td>MMSA</td>\n",
              "      <td>0.000000</td>\n",
              "    </tr>\n",
              "  </tbody>\n",
              "</table>\n",
              "</div>\n",
              "      <button class=\"colab-df-convert\" onclick=\"convertToInteractive('df-d5c37060-cac0-4c1a-9d49-780a537dd5c4')\"\n",
              "              title=\"Convert this dataframe to an interactive table.\"\n",
              "              style=\"display:none;\">\n",
              "        \n",
              "  <svg xmlns=\"http://www.w3.org/2000/svg\" height=\"24px\"viewBox=\"0 0 24 24\"\n",
              "       width=\"24px\">\n",
              "    <path d=\"M0 0h24v24H0V0z\" fill=\"none\"/>\n",
              "    <path d=\"M18.56 5.44l.94 2.06.94-2.06 2.06-.94-2.06-.94-.94-2.06-.94 2.06-2.06.94zm-11 1L8.5 8.5l.94-2.06 2.06-.94-2.06-.94L8.5 2.5l-.94 2.06-2.06.94zm10 10l.94 2.06.94-2.06 2.06-.94-2.06-.94-.94-2.06-.94 2.06-2.06.94z\"/><path d=\"M17.41 7.96l-1.37-1.37c-.4-.4-.92-.59-1.43-.59-.52 0-1.04.2-1.43.59L10.3 9.45l-7.72 7.72c-.78.78-.78 2.05 0 2.83L4 21.41c.39.39.9.59 1.41.59.51 0 1.02-.2 1.41-.59l7.78-7.78 2.81-2.81c.8-.78.8-2.07 0-2.86zM5.41 20L4 18.59l7.72-7.72 1.47 1.35L5.41 20z\"/>\n",
              "  </svg>\n",
              "      </button>\n",
              "      \n",
              "  <style>\n",
              "    .colab-df-container {\n",
              "      display:flex;\n",
              "      flex-wrap:wrap;\n",
              "      gap: 12px;\n",
              "    }\n",
              "\n",
              "    .colab-df-convert {\n",
              "      background-color: #E8F0FE;\n",
              "      border: none;\n",
              "      border-radius: 50%;\n",
              "      cursor: pointer;\n",
              "      display: none;\n",
              "      fill: #1967D2;\n",
              "      height: 32px;\n",
              "      padding: 0 0 0 0;\n",
              "      width: 32px;\n",
              "    }\n",
              "\n",
              "    .colab-df-convert:hover {\n",
              "      background-color: #E2EBFA;\n",
              "      box-shadow: 0px 1px 2px rgba(60, 64, 67, 0.3), 0px 1px 3px 1px rgba(60, 64, 67, 0.15);\n",
              "      fill: #174EA6;\n",
              "    }\n",
              "\n",
              "    [theme=dark] .colab-df-convert {\n",
              "      background-color: #3B4455;\n",
              "      fill: #D2E3FC;\n",
              "    }\n",
              "\n",
              "    [theme=dark] .colab-df-convert:hover {\n",
              "      background-color: #434B5C;\n",
              "      box-shadow: 0px 1px 3px 1px rgba(0, 0, 0, 0.15);\n",
              "      filter: drop-shadow(0px 1px 2px rgba(0, 0, 0, 0.3));\n",
              "      fill: #FFFFFF;\n",
              "    }\n",
              "  </style>\n",
              "\n",
              "      <script>\n",
              "        const buttonEl =\n",
              "          document.querySelector('#df-d5c37060-cac0-4c1a-9d49-780a537dd5c4 button.colab-df-convert');\n",
              "        buttonEl.style.display =\n",
              "          google.colab.kernel.accessAllowed ? 'block' : 'none';\n",
              "\n",
              "        async function convertToInteractive(key) {\n",
              "          const element = document.querySelector('#df-d5c37060-cac0-4c1a-9d49-780a537dd5c4');\n",
              "          const dataTable =\n",
              "            await google.colab.kernel.invokeFunction('convertToInteractive',\n",
              "                                                     [key], {});\n",
              "          if (!dataTable) return;\n",
              "\n",
              "          const docLinkHtml = 'Like what you see? Visit the ' +\n",
              "            '<a target=\"_blank\" href=https://colab.research.google.com/notebooks/data_table.ipynb>data table notebook</a>'\n",
              "            + ' to learn more about interactive tables.';\n",
              "          element.innerHTML = '';\n",
              "          dataTable['output_type'] = 'display_data';\n",
              "          await google.colab.output.renderOutput(dataTable, element);\n",
              "          const docLink = document.createElement('div');\n",
              "          docLink.innerHTML = docLinkHtml;\n",
              "          element.appendChild(docLink);\n",
              "        }\n",
              "      </script>\n",
              "    </div>\n",
              "  </div>\n",
              "  "
            ],
            "text/plain": [
              "                  Feature   NaNRate\n",
              "8            miss_feature  0.963235\n",
              "9           const_feature  0.169118\n",
              "3   high_risk_per_ICU_bed  0.154412\n",
              "4  high_risk_per_hospital  0.154412\n",
              "5                icu_beds  0.147059\n",
              "6               hospitals  0.132353\n",
              "1                    code  0.125000\n",
              "2   total_percent_at_risk  0.125000\n",
              "7           total_at_risk  0.125000\n",
              "0                    MMSA  0.000000"
            ]
          },
          "execution_count": 156,
          "metadata": {},
          "output_type": "execute_result"
        }
      ],
      "source": [
        "# Доля (процент) пропусков\n",
        "dfNanRate = pd.DataFrame([(c, df2[c].isnull().mean()) for c in df2], columns=['Feature', 'NaNRate'])\n",
        "dfNanRate.sort_values(by='NaNRate', ascending=False)"
      ]
    },
    {
      "cell_type": "code",
      "execution_count": 157,
      "metadata": {
        "colab": {
          "base_uri": "https://localhost:8080/",
          "height": 81
        },
        "id": "BIvSrdXINDvY",
        "outputId": "b85419f2-2306-4947-c25e-bfb83df54189"
      },
      "outputs": [
        {
          "data": {
            "text/html": [
              "\n",
              "  <div id=\"df-8a70e157-0090-4397-a224-50b4893dad09\">\n",
              "    <div class=\"colab-df-container\">\n",
              "      <div>\n",
              "<style scoped>\n",
              "    .dataframe tbody tr th:only-of-type {\n",
              "        vertical-align: middle;\n",
              "    }\n",
              "\n",
              "    .dataframe tbody tr th {\n",
              "        vertical-align: top;\n",
              "    }\n",
              "\n",
              "    .dataframe thead th {\n",
              "        text-align: right;\n",
              "    }\n",
              "</style>\n",
              "<table border=\"1\" class=\"dataframe\">\n",
              "  <thead>\n",
              "    <tr style=\"text-align: right;\">\n",
              "      <th></th>\n",
              "      <th>Feature</th>\n",
              "      <th>NaNRate</th>\n",
              "    </tr>\n",
              "  </thead>\n",
              "  <tbody>\n",
              "    <tr>\n",
              "      <th>8</th>\n",
              "      <td>miss_feature</td>\n",
              "      <td>0.963235</td>\n",
              "    </tr>\n",
              "  </tbody>\n",
              "</table>\n",
              "</div>\n",
              "      <button class=\"colab-df-convert\" onclick=\"convertToInteractive('df-8a70e157-0090-4397-a224-50b4893dad09')\"\n",
              "              title=\"Convert this dataframe to an interactive table.\"\n",
              "              style=\"display:none;\">\n",
              "        \n",
              "  <svg xmlns=\"http://www.w3.org/2000/svg\" height=\"24px\"viewBox=\"0 0 24 24\"\n",
              "       width=\"24px\">\n",
              "    <path d=\"M0 0h24v24H0V0z\" fill=\"none\"/>\n",
              "    <path d=\"M18.56 5.44l.94 2.06.94-2.06 2.06-.94-2.06-.94-.94-2.06-.94 2.06-2.06.94zm-11 1L8.5 8.5l.94-2.06 2.06-.94-2.06-.94L8.5 2.5l-.94 2.06-2.06.94zm10 10l.94 2.06.94-2.06 2.06-.94-2.06-.94-.94-2.06-.94 2.06-2.06.94z\"/><path d=\"M17.41 7.96l-1.37-1.37c-.4-.4-.92-.59-1.43-.59-.52 0-1.04.2-1.43.59L10.3 9.45l-7.72 7.72c-.78.78-.78 2.05 0 2.83L4 21.41c.39.39.9.59 1.41.59.51 0 1.02-.2 1.41-.59l7.78-7.78 2.81-2.81c.8-.78.8-2.07 0-2.86zM5.41 20L4 18.59l7.72-7.72 1.47 1.35L5.41 20z\"/>\n",
              "  </svg>\n",
              "      </button>\n",
              "      \n",
              "  <style>\n",
              "    .colab-df-container {\n",
              "      display:flex;\n",
              "      flex-wrap:wrap;\n",
              "      gap: 12px;\n",
              "    }\n",
              "\n",
              "    .colab-df-convert {\n",
              "      background-color: #E8F0FE;\n",
              "      border: none;\n",
              "      border-radius: 50%;\n",
              "      cursor: pointer;\n",
              "      display: none;\n",
              "      fill: #1967D2;\n",
              "      height: 32px;\n",
              "      padding: 0 0 0 0;\n",
              "      width: 32px;\n",
              "    }\n",
              "\n",
              "    .colab-df-convert:hover {\n",
              "      background-color: #E2EBFA;\n",
              "      box-shadow: 0px 1px 2px rgba(60, 64, 67, 0.3), 0px 1px 3px 1px rgba(60, 64, 67, 0.15);\n",
              "      fill: #174EA6;\n",
              "    }\n",
              "\n",
              "    [theme=dark] .colab-df-convert {\n",
              "      background-color: #3B4455;\n",
              "      fill: #D2E3FC;\n",
              "    }\n",
              "\n",
              "    [theme=dark] .colab-df-convert:hover {\n",
              "      background-color: #434B5C;\n",
              "      box-shadow: 0px 1px 3px 1px rgba(0, 0, 0, 0.15);\n",
              "      filter: drop-shadow(0px 1px 2px rgba(0, 0, 0, 0.3));\n",
              "      fill: #FFFFFF;\n",
              "    }\n",
              "  </style>\n",
              "\n",
              "      <script>\n",
              "        const buttonEl =\n",
              "          document.querySelector('#df-8a70e157-0090-4397-a224-50b4893dad09 button.colab-df-convert');\n",
              "        buttonEl.style.display =\n",
              "          google.colab.kernel.accessAllowed ? 'block' : 'none';\n",
              "\n",
              "        async function convertToInteractive(key) {\n",
              "          const element = document.querySelector('#df-8a70e157-0090-4397-a224-50b4893dad09');\n",
              "          const dataTable =\n",
              "            await google.colab.kernel.invokeFunction('convertToInteractive',\n",
              "                                                     [key], {});\n",
              "          if (!dataTable) return;\n",
              "\n",
              "          const docLinkHtml = 'Like what you see? Visit the ' +\n",
              "            '<a target=\"_blank\" href=https://colab.research.google.com/notebooks/data_table.ipynb>data table notebook</a>'\n",
              "            + ' to learn more about interactive tables.';\n",
              "          element.innerHTML = '';\n",
              "          dataTable['output_type'] = 'display_data';\n",
              "          await google.colab.output.renderOutput(dataTable, element);\n",
              "          const docLink = document.createElement('div');\n",
              "          docLink.innerHTML = docLinkHtml;\n",
              "          element.appendChild(docLink);\n",
              "        }\n",
              "      </script>\n",
              "    </div>\n",
              "  </div>\n",
              "  "
            ],
            "text/plain": [
              "        Feature   NaNRate\n",
              "8  miss_feature  0.963235"
            ]
          },
          "execution_count": 157,
          "metadata": {},
          "output_type": "execute_result"
        }
      ],
      "source": [
        "dfNanRate[dfNanRate.NaNRate > 0.95]"
      ]
    },
    {
      "cell_type": "code",
      "execution_count": 158,
      "metadata": {
        "colab": {
          "base_uri": "https://localhost:8080/"
        },
        "id": "TRq6PU58NE2c",
        "outputId": "a025c998-4cac-4f7e-eaad-5513bdfd1bb2"
      },
      "outputs": [
        {
          "data": {
            "text/plain": [
              "['miss_feature']"
            ]
          },
          "execution_count": 158,
          "metadata": {},
          "output_type": "execute_result"
        }
      ],
      "source": [
        "null_features = list(dfNanRate[dfNanRate.NaNRate > 0.95].Feature)\n",
        "null_features"
      ]
    },
    {
      "cell_type": "markdown",
      "metadata": {
        "id": "La10huP9NMZr"
      },
      "source": [
        "Удалим признаки, у которых слишком большой процент пропусков (>95%), т.е. они являются псевдоконстантными."
      ]
    },
    {
      "cell_type": "code",
      "execution_count": 159,
      "metadata": {
        "id": "lv2wUYZcNHgT"
      },
      "outputs": [],
      "source": [
        "df2.drop(null_features, axis=1, inplace=True)"
      ]
    },
    {
      "cell_type": "code",
      "execution_count": 160,
      "metadata": {
        "colab": {
          "base_uri": "https://localhost:8080/"
        },
        "id": "NL8ZfZm4NjT2",
        "outputId": "056e2338-8643-4bd6-a05c-2d6ea2432284"
      },
      "outputs": [
        {
          "name": "stdout",
          "output_type": "stream",
          "text": [
            "miss_feature удален\n"
          ]
        }
      ],
      "source": [
        "for feat in null_features:\n",
        "    if feat not in df2:\n",
        "        print(feat, 'удален')"
      ]
    },
    {
      "cell_type": "markdown",
      "metadata": {
        "id": "tuu8eWHGNlWg"
      },
      "source": [
        "Признаки удалены."
      ]
    },
    {
      "cell_type": "code",
      "execution_count": 161,
      "metadata": {
        "colab": {
          "base_uri": "https://localhost:8080/"
        },
        "id": "i3wbMrbNNn8M",
        "outputId": "66898ff7-258b-4c92-f47c-241120ef1639"
      },
      "outputs": [
        {
          "name": "stdout",
          "output_type": "stream",
          "text": [
            "У этих признаков большая доля одного значения:\n"
          ]
        },
        {
          "data": {
            "text/plain": [
              "['const_feature']"
            ]
          },
          "execution_count": 161,
          "metadata": {},
          "output_type": "execute_result"
        }
      ],
      "source": [
        "print(\"У этих признаков большая доля одного значения:\")\n",
        "pseudoconstant_feats = []\n",
        "for col in df2.columns:\n",
        "    if list(df2[col].value_counts(normalize=True))[0] > 0.95:\n",
        "        pseudoconstant_feats.append(col)\n",
        "pseudoconstant_feats"
      ]
    },
    {
      "cell_type": "code",
      "execution_count": 162,
      "metadata": {
        "id": "2WC-7T0eNrnB"
      },
      "outputs": [],
      "source": [
        "df2.drop(pseudoconstant_feats, axis=1, inplace=True)"
      ]
    },
    {
      "cell_type": "code",
      "execution_count": 163,
      "metadata": {
        "colab": {
          "base_uri": "https://localhost:8080/"
        },
        "id": "caInija1NsfB",
        "outputId": "cab7c232-4bfa-488c-bb92-7a531d4ae7c9"
      },
      "outputs": [
        {
          "name": "stdout",
          "output_type": "stream",
          "text": [
            "const_feature удален\n"
          ]
        }
      ],
      "source": [
        "for feat in pseudoconstant_feats:\n",
        "    if feat not in df2:\n",
        "        print(feat, 'удален')"
      ]
    },
    {
      "cell_type": "markdown",
      "metadata": {
        "id": "E0z7YPUML6pv"
      },
      "source": [
        "## Дополнительное задание\n",
        "Для пары произвольных колонок данных построить график \"Диаграмма рассеяния\"."
      ]
    },
    {
      "cell_type": "code",
      "execution_count": 102,
      "metadata": {
        "id": "z2DyWOtJghVE"
      },
      "outputs": [],
      "source": [
        "df_dop = pd.read_csv('/content/drive/MyDrive/MMO/mmsa-icu-beds2.csv')"
      ]
    },
    {
      "cell_type": "code",
      "execution_count": 107,
      "metadata": {
        "colab": {
          "base_uri": "https://localhost:8080/",
          "height": 298
        },
        "id": "lPOVe2VBMT7q",
        "outputId": "6f4871c8-6bfe-4fa5-f9c7-0394efded468"
      },
      "outputs": [
        {
          "data": {
            "text/plain": [
              "<matplotlib.axes._subplots.AxesSubplot at 0x7f19bcd67fd0>"
            ]
          },
          "execution_count": 107,
          "metadata": {},
          "output_type": "execute_result"
        },
        {
          "data": {
            "image/png": "[encoded data removed]",
            "text/plain": [
              "<Figure size 432x288 with 1 Axes>"
            ]
          },
          "metadata": {
            "needs_background": "light"
          },
          "output_type": "display_data"
        }
      ],
      "source": [
        "sns.regplot(x=df_dop['icu_beds'], y=df_dop['high_risk_per_hospital'])"
      ]
    },
    {
      "cell_type": "markdown",
      "metadata": {
        "id": "2cPhmRKMMX5u"
      },
      "source": [
        "Построили график рассеяния, показывающий зависимость между двумя признаками: icu beds (кровати отделения интенсивной терапии) и high_risk_per_hospital (высокий риск для больницы)."
      ]
    }
  ],
  "metadata": {
    "colab": {
      "collapsed_sections": [],
      "include_colab_link": true,
      "name": "RK1_Pinskaya.ipynb",
      "provenance": []
    },
    "kernelspec": {
      "display_name": "Python 3",
      "name": "python3"
    },
    "language_info": {
      "name": "python"
    }
  },
  "nbformat": 4,
  "nbformat_minor": 0
}
